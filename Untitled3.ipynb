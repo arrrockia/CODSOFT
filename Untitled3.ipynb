{
  "nbformat": 4,
  "nbformat_minor": 0,
  "metadata": {
    "colab": {
      "provenance": []
    },
    "kernelspec": {
      "name": "python3",
      "display_name": "Python 3"
    },
    "language_info": {
      "name": "python"
    }
  },
  "cells": [
    {
      "cell_type": "markdown",
      "source": [
        "training a Binary class claffier:"
      ],
      "metadata": {
        "id": "hweVutJtBtgx"
      }
    },
    {
      "cell_type": "code",
      "source": [
        "from sklearn.linear_model import LogisticRegression\n",
        "from sklearn import datasets\n",
        "from sklearn.preprocessing import StandardScaler\n",
        "import numpy as np\n",
        "import pandas as pd\n",
        "import matplotlib.pyplot as plt\n"
      ],
      "metadata": {
        "id": "s-2QWUs_FGDC"
      },
      "execution_count": 48,
      "outputs": []
    },
    {
      "cell_type": "code",
      "source": [
        "iris=datasets.load_iris()\n",
        "features=iris.data[:100,:]\n",
        "targets=iris.target[:100]\n",
        "scalar=StandardScaler()\n",
        "features_std=scalar.fit_transform(features)"
      ],
      "metadata": {
        "id": "zuNAuGWe_zD8"
      },
      "execution_count": 49,
      "outputs": []
    },
    {
      "cell_type": "code",
      "source": [
        "logisticreg=LogisticRegression(random_state=0)\n",
        "model=logisticreg.fit(features_std,targets)"
      ],
      "metadata": {
        "id": "2iNIcl7xAUR4"
      },
      "execution_count": 50,
      "outputs": []
    },
    {
      "cell_type": "code",
      "source": [
        "newobser=[[0.5,0.5,0.5,0.5]]\n",
        "model.predict(newobser)\n",
        "model.predict_proba(newobser)"
      ],
      "metadata": {
        "colab": {
          "base_uri": "https://localhost:8080/"
        },
        "id": "ziyg_cWyBDqn",
        "outputId": "a7d138fc-e18d-46fb-d66a-ddd118d77034"
      },
      "execution_count": 51,
      "outputs": [
        {
          "output_type": "execute_result",
          "data": {
            "text/plain": [
              "array([[0.17738424, 0.82261576]])"
            ]
          },
          "metadata": {},
          "execution_count": 51
        }
      ]
    },
    {
      "cell_type": "markdown",
      "source": [
        "Training a multiclass classifier:"
      ],
      "metadata": {
        "id": "6DqWN-K1CAlo"
      }
    },
    {
      "cell_type": "code",
      "source": [
        "from sklearn.linear_model import LogisticRegression\n",
        "from sklearn import datasets\n",
        "from sklearn.preprocessing import StandardScaler\n",
        "import numpy as np\n",
        "import pandas as pd\n",
        "import matplotlib.pyplot as plt\n",
        "\n",
        "iris=datasets.load_iris()\n",
        "features=iris.data\n",
        "targets=iris.target\n",
        "scalar=StandardScaler()\n",
        "features_std=scalar.fit_transform(features)"
      ],
      "metadata": {
        "id": "qZsKcLCiDcYx"
      },
      "execution_count": 52,
      "outputs": []
    },
    {
      "cell_type": "code",
      "source": [
        "LogisticReg=LogisticRegression(random_state=0,multi_class='multinomial')"
      ],
      "metadata": {
        "id": "s603ogQKCJml"
      },
      "execution_count": 53,
      "outputs": []
    },
    {
      "cell_type": "code",
      "source": [
        "model=LogisticReg.fit(features_std,targets)"
      ],
      "metadata": {
        "id": "Swyc3duBCwVX"
      },
      "execution_count": 54,
      "outputs": []
    },
    {
      "cell_type": "code",
      "source": [
        "newobser=[[0.5,0.5,0.5,0.5]]\n",
        "model.predict(newobser)"
      ],
      "metadata": {
        "colab": {
          "base_uri": "https://localhost:8080/"
        },
        "id": "dOPo8M6mC_ZQ",
        "outputId": "1ab9989f-e2d3-451a-b600-8e2ffabd0be6"
      },
      "execution_count": 55,
      "outputs": [
        {
          "output_type": "execute_result",
          "data": {
            "text/plain": [
              "array([1])"
            ]
          },
          "metadata": {},
          "execution_count": 55
        }
      ]
    },
    {
      "cell_type": "code",
      "source": [
        "model.predict_proba(newobser)"
      ],
      "metadata": {
        "colab": {
          "base_uri": "https://localhost:8080/"
        },
        "id": "9y-nS40nDL4w",
        "outputId": "7cbe1180-6b67-4c80-a5df-b7c6ab5ac7bd"
      },
      "execution_count": 56,
      "outputs": [
        {
          "output_type": "execute_result",
          "data": {
            "text/plain": [
              "array([[0.01982185, 0.74491886, 0.23525928]])"
            ]
          },
          "metadata": {},
          "execution_count": 56
        }
      ]
    }
  ]
}